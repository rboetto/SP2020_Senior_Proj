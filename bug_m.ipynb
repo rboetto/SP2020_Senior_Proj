# Bug Algorithm: An algorithm for circumnavigating an obstacle.
# This module was discarded when we discovered Zumi's sensory abilities were insufficient.

from zumi.zumi import Zumi
import time
import math


# Lets say we need to move 100 units north

detection_threshold = 100
zumi = Zumi()
zumi.reset_gyro()

heading = 0 # Degrees from facing goal direction
distance = 100 # Distance to goal

def which_sensors (angle):
    
    # We can use 
    d = math.cos(angle)
    if d > 0.7: # Front
        return 0, 5
    if d < -0.7: # Back
        return 2, 4
    
    d = math.sin(angle)
    if d > 0: # Left
        return  4, 5
    return 0, 2 # Right

# Assume only right turns

while (distance > 0):
    
    ssr_a, ssr_b = which_sensors (heading)
    ir_data = zumi.get_all_IR_data()
    
    if (ir_data[ssr_a] > detection_threshold and if_data[ssr_b] > detection_threshold):
        zumi.turn_left (heading)
        heading = 0
        zumi.forward()
    # 0 = Front right sensor
    # 5 = Front left sensor
    
    if (ir_data[0] < detection_threshold and ir_data[5] < detection_threshold):
        
        zumi.turn_right()
        distance = distance - 40
        zumi.forward()
    
    elif (1 > 0):
        zumi.backward()
    
    