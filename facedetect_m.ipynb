from zumi.zumi import Zumi
from zumi.util.screen import Screen
from zumi.util.camera import Camera
import IPython.display
# import PIL.Image
from PIL import Image
import cv2 as cv # OpenCV (Computer Vision Package)
import numpy as np
import pyzbar.pyzbar as pyzbar
import time

zumi = Zumi()
screen = Screen()
camera = Camera()

funcdict = {
    "Forward": (lambda a: zumi.forward(speed=float(a[1]), duration=float(a[2]), desired_angle=float(a[3]))),
    "ForwardDefault": (lambda a: zumi.forward()),
    "Circle": (lambda a: zumi.circle(speed=float(a[1]), step=float(a[2]), direction=float(a[3]), delay=float(a[4]))),
    "CircleDefault": (lambda a: zumi.circle()),
    "RightCircle": (lambda a: zumi.right_circle(speed=float(a[1]), step=float(a[2]), direction=float(a[3]), delay=float(a[4]))),
    "RightCircleDefault": (lambda a: zumi.right_circle()),
    "Triangle": (lambda a: zumi.triangle(speed=float(a[1]), seconds=float(a[2]), direction=float(a[3]))),
    "Figure8": (lambda a: zumi.figure8(speed=float(a[1]), step=float(a[2]), delay=float(a[3]))),
    "Rectangle": (lambda a: zumi.rectangle(speed=float(a[1]), seconds=float(a[2]), direction=float(a[3]), ratio=float(a[4]))),
    "Reverse": (lambda a: zumi.reverse(speed=float(a[1]), duration=float(a[2]), desired_angle=float(a[3])))
}
  
idle_start_time = time.time()
face_cascade = cv.CascadeClassifier()

if not face_cascade.load("/usr/local/lib/python3.5/dist-packages/zumi/util/src/haarcascade_frontalface_default.xml"):
    print("FILE NOT FOUND")
    exit(1)
    
camera.start_camera()

try:
    while (time.time() - idle_start_time < 60):
        
        frame = camera.capture()
        h,w,channel = frame.shape
        
        frame_gray = cv.cvtColor(frame,cv.COLOR_RGB2GRAY)
        frame_gray = cv.equalizeHist(frame_gray)
        
        faces = face_cascade.detectMultiScale(frame_gray)
        for (x,y,w,h) in faces:
            
            center = (x + w//2, y + h//2)
            frame = cv.ellipse(frame, center, (w//2, h//2), 0, 0, 360, (255, 0, 255), 4)
                
        IPython.display.clear_output(wait=True)
        IPython.display.display(Image.fromarray(frame))
finally:
    camera.close()