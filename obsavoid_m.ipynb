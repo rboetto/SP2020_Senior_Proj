from zumi.zumi import Zumi
import time
zumi = Zumi()

direction = 0 #Initiate direction to 0
min_ir_threshold = 70 #variable to hold number value to indicate min ir trigger
turn_degrees = 30 #number of degrees Zumi will turn

time_start = time.time() #current starting time
time_elapsed = 0

while time_elapsed < 10: #while timer is less than this

    time_elapsed = time.time()-time_start #counter
    ir_readings = zumi.get_all_IR_data()
    front_right_ir = ir_readings[0]
    front_left_ir = ir_readings[5]
    
    if front_left_ir < min_ir_threshold and front_right_ir < min_ir_threshold: #both ir sensors are triggered 
        print("something ahead")
        zumi.stop(0)
        time.sleep(0.5)
        zumi.reverse(40, 0.5, direction)
        zumi.stop(0)
        time.sleep(0.5)
        
        direction = direction - 180
        
    elif front_right_ir < min_ir_threshold: #right ir sensor is triggered 
        print("something on the right")
        direction = direction + turn_degrees
        
    elif front_left_ir < min_ir_threshold: #left ir sensor is triggered 
        print("something on the left")
        direction = direction - turn_degrees
        
    zumi.go_straight(30, direction, 60)
    time.sleep(0.05)
zumi.stop(0)