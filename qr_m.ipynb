from zumi.zumi import Zumi
from zumi.util.screen import Screen
from zumi.util.camera import Camera
import IPython.display
# import PIL.Image
from PIL import Image
import cv2 # OpenCV (Computer Vision Package)
import numpy as np
import pyzbar.pyzbar as pyzbar
import time

zumi = Zumi()
screen = Screen()
camera = Camera()

funcdict = {
    "Forward": (lambda a: zumi.forward(speed=float(a[1]), duration=float(a[2]), desired_angle=float(a[3]))),
    "ForwardDefault": (lambda a: zumi.forward()),
    "Circle": (lambda a: zumi.circle(speed=float(a[1]), step=float(a[2]), direction=float(a[3]), delay=float(a[4]))),
    "CircleDefault": (lambda a: zumi.circle()),
    "RightCircle": (lambda a: zumi.right_circle(speed=float(a[1]), step=float(a[2]), direction=float(a[3]), delay=float(a[4]))),
    "RightCircleDefault": (lambda a: zumi.right_circle()),
    "Triangle": (lambda a: zumi.triangle(speed=float(a[1]), seconds=float(a[2]), direction=float(a[3]))),
    "Figure8": (lambda a: zumi.figure8(speed=float(a[1]), step=float(a[2]), delay=float(a[3]))),
    "Rectangle": (lambda a: zumi.rectangle(speed=float(a[1]), seconds=float(a[2]), direction=float(a[3]), ratio=float(a[4]))),
    "Reverse": (lambda a: zumi.reverse(speed=float(a[1]), duration=float(a[2]), desired_angle=float(a[3])))
}
  
idle_start_time = time.time()
zumi.reset_PID()

camera.start_camera()
try:
    while (time.time() - idle_start_time < 60):
        
        screen.draw_text("Awaiting QR Code")
        frame = camera.capture()
        h,w,channel = frame.shape
        decodedObjects = pyzbar.decode(frame)
        
        if len(decodedObjects) > 0:
            
            print("QR code detected")

            for obj in decodedObjects:
                instructions = obj.data.decode("utf-8").split(":")
                for ins in instructions:
                    data = ins.split()
                    funcdict[data[0]](data)
                    time.sleep(1)
                    
            idle_start_time = time.time()
                
        IPython.display.clear_output(wait=True)
        IPython.display.display(Image.fromarray(frame))
finally:
    camera.close()